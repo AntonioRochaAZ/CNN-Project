{
  "nbformat": 4,
  "nbformat_minor": 0,
  "metadata": {
    "colab": {
      "name": "ImageNet.ipynb",
      "provenance": [],
      "collapsed_sections": []
    },
    "kernelspec": {
      "name": "python3",
      "display_name": "Python 3"
    },
    "language_info": {
      "name": "python"
    },
    "accelerator": "GPU"
  },
  "cells": [
    {
      "cell_type": "code",
      "metadata": {
        "id": "hrXzJJdljCmn",
        "colab": {
          "base_uri": "https://localhost:8080/"
        },
        "outputId": "fecee476-6a74-4145-9735-d31e0232f645"
      },
      "source": [
        "from google.colab import drive\n",
        "import os\n",
        "\n",
        "drive.mount('/content/gdrive')\n",
        "root_path = 'gdrive/MyDrive/PyCharmProjects/ImageNet/'\n",
        "os.chdir(root_path)\n",
        "\n",
        "from datasets import *\n",
        "from nets import *\n",
        "\n",
        "device = th.device('cuda:0' if th.cuda.is_available() else 'cpu')\n",
        "print(f\"device: {device}\")"
      ],
      "execution_count": 1,
      "outputs": [
        {
          "output_type": "stream",
          "name": "stdout",
          "text": [
            "Mounted at /content/gdrive\n",
            "device: cuda:0\n"
          ]
        }
      ]
    },
    {
      "cell_type": "code",
      "metadata": {
        "id": "StlRcHDHyAq-"
      },
      "source": [
        "# # !tar -xjvf \"/content/gdrive/MyDrive/PyCharmProjects/ImageNet/_Data/HASYv2.tar.bz2\" -C \"/content/gdrive/MyDrive/PyCharmProjects/ImageNet/_Data/HASYv2\"     #[run this cell to extract tar.bz2 files]\n",
        "# !unzip \"/content/gdrive/MyDrive/PyCharmProjects/ImageNet/_Data/hasy-data.zip\" -d \"/content/gdrive/MyDrive/PyCharmProjects/ImageNet/_Data/HASYv2/\""
      ],
      "execution_count": null,
      "outputs": []
    },
    {
      "cell_type": "code",
      "metadata": {
        "id": "kEm-P6bCjNFs"
      },
      "source": [
        "with open('.//_Data/colab_dataset.pkl', 'rb') as f:\n",
        "    full_dataset = pickle.load(f)\n",
        "\n",
        "fold = 1\n",
        "ds = HASYv2Dataset()\n",
        "tds = ds.cross_val(fold, True, full_dataset)\n",
        "vds = ds.cross_val(fold, False, full_dataset)\n",
        "del full_dataset"
      ],
      "execution_count": 2,
      "outputs": []
    },
    {
      "cell_type": "code",
      "metadata": {
        "colab": {
          "base_uri": "https://localhost:8080/",
          "height": 1000
        },
        "id": "c5qpny0S10Tr",
        "outputId": "5a7cce24-9b27-49ab-be34-233cf006058b"
      },
      "source": [
        "model = TwoLayer()\n",
        "tdl = DataLoader(tds, batch_size = 1, shuffle=True)\n",
        "vdl = DataLoader(vds, batch_size = 10000)\n",
        "train_model(model, 60, 1e-4, nn.NLLLoss(), (tdl, vdl))"
      ],
      "execution_count": 7,
      "outputs": [
        {
          "output_type": "stream",
          "name": "stdout",
          "text": [
            "1. Training loss: -0.2413\n",
            "\tTraining accuracy: 25.06%\n",
            "1. Validation loss: -0.3141\n",
            "\tValidation accuracy: 32.32%\n",
            "2. Training loss: -0.3319\n",
            "\tTraining accuracy: 33.80%\n",
            "2. Validation loss: -0.35\n",
            "\tValidation accuracy: 35.77%\n",
            "3. Training loss: -0.3566\n",
            "\tTraining accuracy: 36.10%\n",
            "3. Validation loss: -0.3703\n",
            "\tValidation accuracy: 37.81%\n",
            "4. Training loss: -0.373\n",
            "\tTraining accuracy: 37.78%\n",
            "4. Validation loss: -0.3869\n",
            "\tValidation accuracy: 39.58%\n",
            "5. Training loss: -0.3927\n",
            "\tTraining accuracy: 39.76%\n",
            "5. Validation loss: -0.4074\n",
            "\tValidation accuracy: 41.51%\n",
            "6. Training loss: -0.4174\n",
            "\tTraining accuracy: 42.19%\n",
            "6. Validation loss: -0.4402\n",
            "\tValidation accuracy: 44.89%\n",
            "7. Training loss: -0.441\n",
            "\tTraining accuracy: 44.69%\n",
            "7. Validation loss: -0.4553\n",
            "\tValidation accuracy: 46.43%\n",
            "8. Training loss: -0.4624\n",
            "\tTraining accuracy: 46.82%\n",
            "8. Validation loss: -0.4864\n",
            "\tValidation accuracy: 49.69%\n",
            "9. Training loss: -0.4916\n",
            "\tTraining accuracy: 49.75%\n",
            "9. Validation loss: -0.5054\n",
            "\tValidation accuracy: 51.68%\n",
            "10. Training loss: -0.5129\n",
            "\tTraining accuracy: 51.88%\n",
            "10. Validation loss: -0.5261\n",
            "\tValidation accuracy: 53.67%\n",
            "11. Training loss: -0.5364\n",
            "\tTraining accuracy: 54.18%\n",
            "11. Validation loss: -0.551\n",
            "\tValidation accuracy: 56.43%\n",
            "12. Training loss: -0.5604\n",
            "\tTraining accuracy: 56.58%\n",
            "12. Validation loss: -0.5701\n",
            "\tValidation accuracy: 58.45%\n",
            "13. Training loss: -0.5812\n",
            "\tTraining accuracy: 58.63%\n",
            "13. Validation loss: -0.5994\n",
            "\tValidation accuracy: 61.22%\n",
            "14. Training loss: -0.6111\n",
            "\tTraining accuracy: 61.74%\n",
            "14. Validation loss: -0.6264\n",
            "\tValidation accuracy: 63.99%\n",
            "15. Training loss: -0.6348\n",
            "\tTraining accuracy: 64.17%\n",
            "15. Validation loss: -0.6495\n",
            "\tValidation accuracy: 66.30%\n",
            "16. Training loss: -0.6567\n",
            "\tTraining accuracy: 66.35%\n",
            "16. Validation loss: -0.6703\n",
            "\tValidation accuracy: 68.25%\n",
            "17. Training loss: -0.6762\n",
            "\tTraining accuracy: 68.23%\n",
            "17. Validation loss: -0.6812\n",
            "\tValidation accuracy: 69.25%\n",
            "18. Training loss: -0.6886\n",
            "\tTraining accuracy: 69.34%\n",
            "18. Validation loss: -0.6987\n",
            "\tValidation accuracy: 70.94%\n",
            "19. Training loss: -0.7027\n",
            "\tTraining accuracy: 70.84%\n",
            "19. Validation loss: -0.7109\n",
            "\tValidation accuracy: 72.20%\n",
            "20. Training loss: -0.7169\n",
            "\tTraining accuracy: 72.20%\n",
            "20. Validation loss: -0.7232\n",
            "\tValidation accuracy: 73.28%\n",
            "21. Training loss: -0.7281\n",
            "\tTraining accuracy: 73.28%\n",
            "21. Validation loss: -0.7314\n",
            "\tValidation accuracy: 74.03%\n",
            "22. Training loss: -0.7354\n",
            "\tTraining accuracy: 73.95%\n",
            "22. Validation loss: -0.7404\n",
            "\tValidation accuracy: 74.89%\n",
            "23. Training loss: -0.7444\n",
            "\tTraining accuracy: 74.83%\n",
            "23. Validation loss: -0.746\n",
            "\tValidation accuracy: 75.44%\n",
            "24. Training loss: -0.7583\n",
            "\tTraining accuracy: 76.23%\n",
            "24. Validation loss: -0.7652\n",
            "\tValidation accuracy: 77.42%\n",
            "25. Training loss: -0.7725\n",
            "\tTraining accuracy: 77.61%\n",
            "25. Validation loss: -0.7752\n",
            "\tValidation accuracy: 78.38%\n",
            "26. Training loss: -0.7806\n",
            "\tTraining accuracy: 78.37%\n",
            "26. Validation loss: -0.7849\n",
            "\tValidation accuracy: 79.34%\n",
            "27. Training loss: -0.7894\n",
            "\tTraining accuracy: 79.20%\n",
            "27. Validation loss: -0.7906\n",
            "\tValidation accuracy: 79.82%\n",
            "28. Training loss: -0.795\n",
            "\tTraining accuracy: 79.68%\n",
            "28. Validation loss: -0.7958\n",
            "\tValidation accuracy: 80.31%\n",
            "29. Training loss: -0.8013\n",
            "\tTraining accuracy: 80.34%\n",
            "29. Validation loss: -0.8012\n",
            "\tValidation accuracy: 80.78%\n",
            "30. Training loss: -0.8056\n",
            "\tTraining accuracy: 80.73%\n",
            "30. Validation loss: -0.8066\n",
            "\tValidation accuracy: 81.23%\n",
            "31. Training loss: -0.8104\n",
            "\tTraining accuracy: 81.18%\n",
            "31. Validation loss: -0.8105\n",
            "\tValidation accuracy: 81.67%\n",
            "32. Training loss: -0.8152\n",
            "\tTraining accuracy: 81.65%\n",
            "32. Validation loss: -0.8152\n",
            "\tValidation accuracy: 82.10%\n",
            "33. Training loss: -0.8195\n",
            "\tTraining accuracy: 82.08%\n",
            "33. Validation loss: -0.8193\n",
            "\tValidation accuracy: 82.49%\n",
            "34. Training loss: -0.8237\n",
            "\tTraining accuracy: 82.51%\n",
            "34. Validation loss: -0.8242\n",
            "\tValidation accuracy: 82.99%\n",
            "35. Training loss: -0.8276\n",
            "\tTraining accuracy: 82.86%\n",
            "35. Validation loss: -0.8273\n",
            "\tValidation accuracy: 83.27%\n",
            "36. Training loss: -0.831\n",
            "\tTraining accuracy: 83.20%\n",
            "36. Validation loss: -0.8315\n",
            "\tValidation accuracy: 83.67%\n",
            "37. Training loss: -0.8348\n",
            "\tTraining accuracy: 83.57%\n",
            "37. Validation loss: -0.8348\n",
            "\tValidation accuracy: 83.95%\n",
            "38. Training loss: -0.8389\n",
            "\tTraining accuracy: 83.97%\n",
            "38. Validation loss: -0.8376\n",
            "\tValidation accuracy: 84.19%\n",
            "39. Training loss: -0.841\n",
            "\tTraining accuracy: 84.20%\n",
            "39. Validation loss: -0.8403\n",
            "\tValidation accuracy: 84.46%\n",
            "40. Training loss: -0.8428\n",
            "\tTraining accuracy: 84.33%\n",
            "40. Validation loss: -0.8429\n",
            "\tValidation accuracy: 84.70%\n",
            "41. Training loss: -0.8447\n",
            "\tTraining accuracy: 84.55%\n",
            "41. Validation loss: -0.8441\n",
            "\tValidation accuracy: 84.82%\n",
            "42. Training loss: -0.8469\n",
            "\tTraining accuracy: 84.77%\n",
            "42. Validation loss: -0.8458\n",
            "\tValidation accuracy: 84.99%\n",
            "43. Training loss: -0.8517\n",
            "\tTraining accuracy: 85.24%\n",
            "43. Validation loss: -0.8511\n",
            "\tValidation accuracy: 85.59%\n",
            "44. Training loss: -0.8546\n",
            "\tTraining accuracy: 85.52%\n",
            "44. Validation loss: -0.853\n",
            "\tValidation accuracy: 85.76%\n",
            "45. Training loss: -0.8567\n",
            "\tTraining accuracy: 85.73%\n",
            "45. Validation loss: -0.8548\n",
            "\tValidation accuracy: 85.91%\n",
            "46. Training loss: -0.8589\n",
            "\tTraining accuracy: 85.93%\n",
            "46. Validation loss: -0.8577\n",
            "\tValidation accuracy: 86.20%\n",
            "47. Training loss: -0.8609\n",
            "\tTraining accuracy: 86.15%\n",
            "47. Validation loss: -0.8586\n",
            "\tValidation accuracy: 86.31%\n",
            "48. Training loss: -0.8622\n",
            "\tTraining accuracy: 86.26%\n",
            "48. Validation loss: -0.8596\n",
            "\tValidation accuracy: 86.39%\n",
            "49. Training loss: -0.863\n",
            "\tTraining accuracy: 86.35%\n",
            "49. Validation loss: -0.8607\n",
            "\tValidation accuracy: 86.52%\n",
            "50. Training loss: -0.8643\n",
            "\tTraining accuracy: 86.46%\n",
            "50. Validation loss: -0.8615\n",
            "\tValidation accuracy: 86.56%\n",
            "51. Training loss: -0.8651\n",
            "\tTraining accuracy: 86.55%\n",
            "51. Validation loss: -0.8628\n",
            "\tValidation accuracy: 86.70%\n",
            "52. Training loss: -0.8666\n",
            "\tTraining accuracy: 86.72%\n",
            "52. Validation loss: -0.8629\n",
            "\tValidation accuracy: 86.75%\n",
            "53. Training loss: -0.8673\n",
            "\tTraining accuracy: 86.76%\n",
            "53. Validation loss: -0.8647\n",
            "\tValidation accuracy: 86.92%\n",
            "54. Training loss: -0.8679\n",
            "\tTraining accuracy: 86.82%\n",
            "54. Validation loss: -0.8653\n",
            "\tValidation accuracy: 86.98%\n",
            "55. Training loss: -0.8693\n",
            "\tTraining accuracy: 86.97%\n",
            "55. Validation loss: -0.8667\n",
            "\tValidation accuracy: 87.09%\n",
            "56. Training loss: -0.8699\n",
            "\tTraining accuracy: 86.99%\n",
            "56. Validation loss: -0.8675\n",
            "\tValidation accuracy: 87.19%\n",
            "57. Training loss: -0.8711\n",
            "\tTraining accuracy: 87.14%\n",
            "57. Validation loss: -0.8683\n",
            "\tValidation accuracy: 87.23%\n",
            "58. Training loss: -0.8719\n",
            "\tTraining accuracy: 87.21%\n",
            "58. Validation loss: -0.8697\n",
            "\tValidation accuracy: 87.39%\n",
            "59. Training loss: -0.8732\n",
            "\tTraining accuracy: 87.35%\n",
            "59. Validation loss: -0.8709\n",
            "\tValidation accuracy: 87.51%\n",
            "60. Training loss: -0.8743\n",
            "\tTraining accuracy: 87.46%\n",
            "60. Validation loss: -0.8728\n",
            "\tValidation accuracy: 87.67%\n"
          ]
        },
        {
          "output_type": "display_data",
          "data": {
            "image/png": "[encoded data removed]",
            "text/plain": [
              "<Figure size 432x288 with 1 Axes>"
            ]
          },
          "metadata": {}
        },
        {
          "output_type": "display_data",
          "data": {
            "image/png": "[encoded data removed]",
            "text/plain": [
              "<Figure size 432x288 with 1 Axes>"
            ]
          },
          "metadata": {}
        },
        {
          "output_type": "stream",
          "name": "stdout",
          "text": [
            "Time for running function train_model: 3575.301563501358s\n"
          ]
        }
      ]
    },
    {
      "cell_type": "code",
      "metadata": {
        "colab": {
          "base_uri": "https://localhost:8080/"
        },
        "id": "RBgXYLHJPJYA",
        "outputId": "9e283c37-f3a9-4384-cafa-9d96ad7b5ee1"
      },
      "source": [
        "train_model(model, 10, 1e-4, nn.NLLLoss(), (tdl, vdl))"
      ],
      "execution_count": null,
      "outputs": [
        {
          "output_type": "stream",
          "name": "stdout",
          "text": [
            "1. Training loss: -0.8865\n",
            "\tTraining accuracy: 88.67%\n",
            "1. Validation loss: -0.8848\n",
            "\tValidation accuracy: 88.72%\n",
            "2. Training loss: -0.8869\n",
            "\tTraining accuracy: 88.68%\n",
            "2. Validation loss: -0.885\n",
            "\tValidation accuracy: 88.75%\n",
            "3. Training loss: -0.8872\n",
            "\tTraining accuracy: 88.74%\n",
            "3. Validation loss: -0.8855\n",
            "\tValidation accuracy: 88.78%\n",
            "4. Training loss: -0.8874\n",
            "\tTraining accuracy: 88.74%\n",
            "4. Validation loss: -0.886\n",
            "\tValidation accuracy: 88.86%\n"
          ]
        }
      ]
    }
  ]
}